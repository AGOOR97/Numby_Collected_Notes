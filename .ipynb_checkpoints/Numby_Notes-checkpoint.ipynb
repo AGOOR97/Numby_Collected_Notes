{
 "cells": [
  {
   "cell_type": "markdown",
   "id": "bbdadd5a",
   "metadata": {},
   "source": [
    "# This NoteBook is a Collection of some commands and options in Numby and testing them\n"
   ]
  },
  {
   "cell_type": "markdown",
   "id": "85663f7d",
   "metadata": {},
   "source": [
    "## By : Mohammed Agoor\n",
    "Git : https://github.com/AGOOR97 "
   ]
  },
  {
   "cell_type": "code",
   "execution_count": 197,
   "id": "d9010348",
   "metadata": {},
   "outputs": [],
   "source": [
    "import numpy as np"
   ]
  },
  {
   "cell_type": "code",
   "execution_count": 199,
   "id": "885c0174",
   "metadata": {},
   "outputs": [
    {
     "name": "stdout",
     "output_type": "stream",
     "text": [
      "a 0.49999999999999994\n",
      "b 0.8660254037844387\n",
      "c 0.5773502691896257\n"
     ]
    }
   ],
   "source": [
    "# Note 1\n",
    "a = np.sin(np.deg2rad(30))   # convert angle to degree as numby deals with radians\n",
    "b = np.cos(np.deg2rad(30))\n",
    "c = np.tan(np.deg2rad(30))\n",
    "\n",
    "print('a' , a)\n",
    "print('b' , b)\n",
    "print('c', c)"
   ]
  },
  {
   "cell_type": "code",
   "execution_count": 200,
   "id": "6b30cc7d",
   "metadata": {},
   "outputs": [
    {
     "name": "stdout",
     "output_type": "stream",
     "text": [
      "a 0.5\n",
      "b 0.866\n",
      "c 0.58\n",
      "f 501.0\n",
      "d 4.0\n",
      "e 3.0\n"
     ]
    }
   ],
   "source": [
    "# Note 2\n",
    "\n",
    "a = np.round(a,2)   # you can round to how many numbers after comma or not\n",
    "b = np.round(b,3)\n",
    "c = np.round(c,2)\n",
    "\n",
    "f = np.round(500.987)  # you can round to null values after comma , only integer num\n",
    "\n",
    "d = np.ceil(3.7)   # ceiling\n",
    "e = np.floor(3.7)  # floor\n",
    "\n",
    "print('a' , a)\n",
    "print('b' , b)\n",
    "print('c' , c)\n",
    "print('f' , f)\n",
    "print('d' , d)\n",
    "print('e' , e)"
   ]
  },
  {
   "cell_type": "code",
   "execution_count": 202,
   "id": "0cef91f6",
   "metadata": {},
   "outputs": [
    {
     "name": "stdout",
     "output_type": "stream",
     "text": [
      "arr1 [[1 2 3]\n",
      " [4 5 6]\n",
      " [7 8 9]]\n",
      "\n",
      "arr2 [[1 2 3]\n",
      " [4 5 6]\n",
      " [7 8 9]]\n",
      "\n",
      "arr3 [[5 6 7]\n",
      " [2 3 4]\n",
      " [3 4 5]\n",
      " [4 5 6]]\n"
     ]
    }
   ],
   "source": [
    "# Note 3\n",
    "a = [[1,2,3],[4,5,6],[7,8,9]]\n",
    "arr1 = np.array(a)\n",
    "arr2 = np.array([[1,2,3],[4,5,6],[7,8,9]])\n",
    "\n",
    "arr3 = np.array([range(i,i+3) for i in [5,2,3,4]])  # for each value in list \n",
    "                                                    # for 5 in range(5,6,7,8) make a row (5,6,7)\n",
    "                                                    # for 2 in range(2,3,4,5) make a row (2,3,4)\n",
    "                                                    #                   .........\n",
    "print('arr1' , arr1)\n",
    "print('')\n",
    "print('arr2' , arr2)\n",
    "print('')\n",
    "print('arr3' , arr3)"
   ]
  },
  {
   "cell_type": "code",
   "execution_count": 204,
   "id": "967bbee5",
   "metadata": {},
   "outputs": [
    {
     "name": "stdout",
     "output_type": "stream",
     "text": [
      "empty [[0.10178041 0.93579217]\n",
      " [0.47306581 0.33612749]\n",
      " [0.82357632 0.70371095]]\n",
      "\n",
      "rand_unif 6.556001676798937\n",
      "\n",
      "sorted arr\n",
      "[19.227075538909062, 16.872945848750078, 14.593354663841467, 12.737739782550719, 12.140662041262054, 10.700334457624006, 9.901978039110531, 7.287306274707252, 3.4081815393029515, 2.567514551374526]\n",
      "\n",
      "rand_betw(0-1) [[0.42186062 0.82541259 0.49215297]\n",
      " [0.63540387 0.01816869 0.30864889]]\n"
     ]
    }
   ],
   "source": [
    "# Note 4\n",
    "empt_arr = np.empty((3,2))                      # empty array values = 0 with shape 3*2\n",
    "\n",
    "ran_unif = np.random.uniform(1,10)              # get only number random from 1 to 10\n",
    "ran_unif_more = np.random.uniform(2,20,10)      # get List of 10 random numbers from 2 to 20\n",
    "\n",
    "rand_rand = np.random.random((2,3))            # get arrayList 2x3 of random numbers from 0 to 1\n",
    "\n",
    "print('empty' , empt_arr)\n",
    "print('')\n",
    "print('rand_unif' , ran_unif)\n",
    "print('')\n",
    "print('sorted arr')\n",
    "print(sorted(ran_unif_more , reverse = True))\n",
    "print('')\n",
    "print('rand_betw(0-1)' , rand_rand)\n"
   ]
  },
  {
   "cell_type": "code",
   "execution_count": 205,
   "id": "b2e311ad",
   "metadata": {},
   "outputs": [
    {
     "name": "stdout",
     "output_type": "stream",
     "text": [
      "rand_normally_dist [ 0.27879845  0.58800743 -0.39372942 -0.76844645  1.7248556   0.58028511\n",
      " -0.31319037  1.04712675 -0.26634421  0.31345296]\n",
      "\n",
      "rand_int [119  12   6 146 106 105  46 144  33  45]\n",
      "\n",
      "a  [[ 20  88  11]\n",
      " [  3  83 138]\n",
      " [123  94  44]]\n",
      "\n",
      "b [[ 74  24   1]\n",
      " [ 34  26 141]]\n",
      "\n",
      "c [[[113   7  55  88]\n",
      "  [ 22 118  40 127]]\n",
      "\n",
      " [[126  66  23 113]\n",
      "  [ 41  40 113  32]]\n",
      "\n",
      " [[ 25  55  10 143]\n",
      "  [ 49   3 131  14]]]\n",
      "\n",
      "\n",
      "d [103 148  75 129  26  73 105  12   5  21 107 147 146  74 117 142 136 117\n",
      "  15  10  81  72 145 127   8  51  92 131 111  67]\n",
      "\n",
      "e [[103 148  75 129  26]\n",
      " [ 73 105  12   5  21]\n",
      " [107 147 146  74 117]\n",
      " [142 136 117  15  10]\n",
      " [ 81  72 145 127   8]\n",
      " [ 51  92 131 111  67]]\n"
     ]
    }
   ],
   "source": [
    "# Note 5\n",
    "\n",
    "ran_normal = np.random.normal(0,1,10)    # get list of 10 numbers from 0 to 1 normally distributed \n",
    "\n",
    "rand_int = np.random.randint(0,150 , size=10)  # get list of 10 numbers from 0 to 150 integer number \n",
    " \n",
    "a = np.random.randint(0,150 ,size=(3,3))      # 2D Array random , size 3x3 , 9 numbers between 0-150\n",
    "b = np.random.randint(0,150 , size=(2,3))     # 2D Array random\n",
    "c = np.random.randint(0,150 , size=(3,2,4))   # 3D Array random\n",
    "\n",
    "\n",
    "d = np.random.randint(0,150 ,30)              # get 6 numbers list from 0 to 150\n",
    "e = np.reshape(d,(6,5))                       # reshape d array , 30 numbers let make it 6*5\n",
    "\n",
    "\n",
    "\n",
    "print('rand_normally_dist' , ran_normal)\n",
    "print('')\n",
    "print('rand_int' , rand_int)\n",
    "print('')\n",
    "print( \"a \",a)\n",
    "print('')\n",
    "print(\"b\",b)\n",
    "print('')\n",
    "print(\"c\",c)\n",
    "print('')\n",
    "print('')\n",
    "print(\"d\",d)\n",
    "print('')\n",
    "print(\"e\",e)"
   ]
  },
  {
   "cell_type": "code",
   "execution_count": 207,
   "id": "3db0a96e",
   "metadata": {},
   "outputs": [
    {
     "name": "stdout",
     "output_type": "stream",
     "text": [
      "w [0.71263301 0.73489952 0.50085899 0.248981   0.93265466 0.0925907\n",
      " 0.35753962 0.84885341 0.23558297 0.57085487]\n",
      "\n",
      "e [[0.69083461 0.51322579 0.01173956]\n",
      " [0.60834995 0.98463633 0.67719421]\n",
      " [0.61400027 0.4171137  0.57104932]\n",
      " [0.45973104 0.52710067 0.63441016]\n",
      " [0.13818752 0.79870136 0.1596854 ]]\n",
      "\n",
      "f [[[0.38451536 0.51806487]\n",
      "  [0.16725878 0.05322176]\n",
      "  [0.17332023 0.16903097]]\n",
      "\n",
      " [[0.73279659 0.3933311 ]\n",
      "  [0.60697922 0.67500364]\n",
      "  [0.80993296 0.40338124]]\n",
      "\n",
      " [[0.8581694  0.79628326]\n",
      "  [0.85961174 0.95686139]\n",
      "  [0.1194071  0.36444935]]\n",
      "\n",
      " [[0.58275953 0.92056889]\n",
      "  [0.10037679 0.06959979]\n",
      "  [0.7508109  0.720936  ]]\n",
      "\n",
      " [[0.43335396 0.94827544]\n",
      "  [0.37499142 0.98191467]\n",
      "  [0.64225686 0.87850736]]]\n",
      "\n",
      "choose 0.5008589928491405\n",
      "\n",
      "q [9, 8, 40, 32, 100, 78, 1, 40, 52, 12, 3, 2]\n"
     ]
    }
   ],
   "source": [
    "# Note 6\n",
    "\n",
    "w = np.random.rand(10)                   # to get 10 number between 0-1\n",
    "e = np.random.rand(5,3)                  # to get 15 number sized 5x3  between 0-1\n",
    "f = np.random.rand(5,3,2)                # to get 30 number sized 5x3x2  between 0-1\n",
    "\n",
    "\n",
    "choose = np.random.choice(w)             # choose on element randomly\n",
    "\n",
    "q = [1,2,3,8,9,12,52,100,40,78,32,40]\n",
    "qshuffled = np.random.shuffle(q)        # reArange the list randomly but it to print print q itself\n",
    "                                        # don't print qshuffled as it will show the original one\n",
    "\n",
    "\n",
    "print('w',w)\n",
    "print('')\n",
    "print('e',e)\n",
    "print('')\n",
    "print('f',f)\n",
    "print('')\n",
    "print('choose',choose)\n",
    "print('')\n",
    "print('q',q)\n"
   ]
  },
  {
   "cell_type": "code",
   "execution_count": 208,
   "id": "8b018cc8",
   "metadata": {},
   "outputs": [
    {
     "name": "stdout",
     "output_type": "stream",
     "text": [
      "a [0. 0. 0. 0. 0. 0. 0. 0.]\n",
      "\n",
      "b [1. 1. 1. 1. 1. 1. 1. 1.]\n",
      "\n",
      "c [[1. 0. 0. 0. 0. 0. 0. 0.]\n",
      " [0. 1. 0. 0. 0. 0. 0. 0.]\n",
      " [0. 0. 1. 0. 0. 0. 0. 0.]\n",
      " [0. 0. 0. 1. 0. 0. 0. 0.]\n",
      " [0. 0. 0. 0. 1. 0. 0. 0.]\n",
      " [0. 0. 0. 0. 0. 1. 0. 0.]\n",
      " [0. 0. 0. 0. 0. 0. 1. 0.]\n",
      " [0. 0. 0. 0. 0. 0. 0. 1.]]\n",
      "\n",
      "d [[7 7 7 7]\n",
      " [7 7 7 7]\n",
      " [7 7 7 7]]\n",
      "\n",
      "s [[12  0  0  0  0]\n",
      " [ 0  5  0  0  0]\n",
      " [ 0  0  4  0  0]\n",
      " [ 0  0  0 -3  0]\n",
      " [ 0  0  0  0  1]]\n"
     ]
    }
   ],
   "source": [
    "# Note 7\n",
    "a = np.zeros(8)\n",
    "b = np.ones(8)\n",
    "c = np.eye(8)                        # identity matrix\n",
    "d = np.full((3,4),7)                 # full matrix 3x3 by 7\n",
    "\n",
    "arr = np.array([12,5,4,-3,1])\n",
    "s = np.diag(arr)                      # make diagonal matrix with the value mentioned\n",
    "\n",
    "\n",
    "print('a',a)\n",
    "print('')\n",
    "print('b',b)\n",
    "print('')\n",
    "print('c',c)\n",
    "print('')\n",
    "print('d',d)\n",
    "print('')\n",
    "print('s',s)"
   ]
  },
  {
   "cell_type": "code",
   "execution_count": 209,
   "id": "e16bff7c",
   "metadata": {},
   "outputs": [
    {
     "name": "stdout",
     "output_type": "stream",
     "text": [
      "w [[ 0  1  2]\n",
      " [ 3  4  5]\n",
      " [ 6  7  8]\n",
      " [ 9 10 11]\n",
      " [12 13 14]\n",
      " [15 16 17]]\n",
      "\n",
      "e [[ 0  1  2  3]\n",
      " [ 4  5  6  7]\n",
      " [ 8  9 10 11]\n",
      " [12 13 14 15]\n",
      " [16 17 18 19]]\n",
      "\n",
      "r [[[ 0  1  2]\n",
      "  [ 3  4  5]\n",
      "  [ 6  7  8]]\n",
      "\n",
      " [[ 9 10 11]\n",
      "  [12 13 14]\n",
      "  [15 16 17]]\n",
      "\n",
      " [[18 19 20]\n",
      "  [21 22 23]\n",
      "  [24 25 26]]]\n",
      "\n",
      "t [  0.           5.26315789  10.52631579  15.78947368  21.05263158\n",
      "  26.31578947  31.57894737  36.84210526  42.10526316  47.36842105\n",
      "  52.63157895  57.89473684  63.15789474  68.42105263  73.68421053\n",
      "  78.94736842  84.21052632  89.47368421  94.73684211 100.        ]\n",
      "\n",
      "q [[  0.           5.26315789  10.52631579  15.78947368]\n",
      " [ 21.05263158  26.31578947  31.57894737  36.84210526]\n",
      " [ 42.10526316  47.36842105  52.63157895  57.89473684]\n",
      " [ 63.15789474  68.42105263  73.68421053  78.94736842]\n",
      " [ 84.21052632  89.47368421  94.73684211 100.        ]]\n"
     ]
    }
   ],
   "source": [
    "# Note 8\n",
    "\n",
    "w = np.arange(18).reshape(6,3)           # reshape 18 numbers by 6x3 , note >> 6x3 = 18\n",
    "e = np.arange(20).reshape(5,4)\n",
    "r = np.arange(27).reshape(3,3,3)\n",
    "\n",
    "t = np.linspace(0,100,20)               # 20 numbers from 0 to 100 which are equally spaced\n",
    "q = np.linspace(0,100,20).reshape(5,4)\n",
    "\n",
    "print('w',w)\n",
    "print('')\n",
    "print('e',e)\n",
    "print('')\n",
    "print('r',r)\n",
    "print('')\n",
    "print('t',t)\n",
    "print('')\n",
    "print('q',q)\n"
   ]
  },
  {
   "cell_type": "code",
   "execution_count": 212,
   "id": "82d35fa8",
   "metadata": {},
   "outputs": [
    {
     "name": "stdout",
     "output_type": "stream",
     "text": [
      "arr_rand [[ 2  0  8]\n",
      " [15 13 26]\n",
      " [ 9 10 31]]\n",
      "\n",
      "count_nonzero 8\n",
      "\n",
      "y 1\n",
      "\n",
      "x 8\n",
      "\n",
      "f True\n",
      "\n",
      "e False\n",
      "\n",
      "s False\n"
     ]
    }
   ],
   "source": [
    "# Note 9  \n",
    "\n",
    "arr_rand = np.random.randint(0,40 , size=(3,3))    # make matrix 3x3 randomlly from 0-40\n",
    "non_zero = np.count_nonzero(arr_rand)              # to count number of non zeros\n",
    "y = np.count_nonzero(arr_rand == 15)              # you can put any condition in this method\n",
    "x = np.count_nonzero(arr_rand != 15)              # np.count_nonzero\n",
    "f = np.any(arr_rand > 5)\n",
    "e = np.any(arr_rand == -5)        # loop on all the array give a boolean if (any) of array apply\n",
    "\n",
    "s = np.all(arr_rand > 5)        # loop on all the array give a boolean if (all) of array apply         \n",
    "    \n",
    "print('arr_rand' , arr_rand)\n",
    "print('')\n",
    "print('count_nonzero' , non_zero)\n",
    "print('')\n",
    "print('y',y)\n",
    "print('')\n",
    "print('x',x)\n",
    "print('')\n",
    "print('f',f)\n",
    "print('')\n",
    "print('e',e)\n",
    "print('')\n",
    "print('s',s)"
   ]
  },
  {
   "cell_type": "code",
   "execution_count": 213,
   "id": "5bb03f3e",
   "metadata": {},
   "outputs": [
    {
     "name": "stdout",
     "output_type": "stream",
     "text": [
      "d [15 20 30 17 14 16 21]\n",
      "\n",
      "e [30]\n",
      "\n",
      "f [[12 17 27]\n",
      " [ 7 -2 14]\n",
      " [11 13 18]]\n"
     ]
    }
   ],
   "source": [
    "# Note 10\n",
    "\n",
    "arr = np.array([[15,20,30],[10,1,17],[14,16,21]])\n",
    "b = arr>10\n",
    "c = arr>30\n",
    "\n",
    "d = arr[arr>10]     # get array of what is only >10 in the arr\n",
    "e = arr[arr>21]\n",
    "f = arr+5-4*2\n",
    "\n",
    "print('d',d)\n",
    "print('')\n",
    "print('e',e)\n",
    "print('')\n",
    "print('f',f)"
   ]
  },
  {
   "cell_type": "code",
   "execution_count": 216,
   "id": "437b027a",
   "metadata": {},
   "outputs": [
    {
     "name": "stdout",
     "output_type": "stream",
     "text": [
      "a-b [[ True  True  True]\n",
      " [ True  True  True]\n",
      " [ True  True  True]]\n",
      "\n",
      "b-c [[ True False False]\n",
      " [False False False]\n",
      " [False False False]]\n",
      "\n",
      "c shape (3, 3)\n"
     ]
    }
   ],
   "source": [
    "# Note 11\n",
    "\n",
    "a = np.arange(9).reshape(3,3)             # get numbers from 0 to 8 and reshape them by 3x3\n",
    "b = np.arange(9).reshape(3,3)             # note that 0 to 8 = 9 numbers = 3x3\n",
    "c = 2*b\n",
    "\n",
    "\n",
    "d = np.shape(c)                             # get shape of matrix\n",
    "tolernace_ab = np.isclose(a,b , rtol=0.1)   # retuen boolean  give it your acceptable tolerance\n",
    "tolernace_bc = np.isclose(b,c , rtol=0.1)\n",
    "\n",
    "\n",
    "print('a-b',tolernace_ab)\n",
    "print('')\n",
    "print('b-c',tolernace_bc)\n",
    "print('')\n",
    "print('c shape',d)"
   ]
  },
  {
   "cell_type": "code",
   "execution_count": 217,
   "id": "5fb3ba17",
   "metadata": {},
   "outputs": [
    {
     "name": "stdout",
     "output_type": "stream",
     "text": [
      "sum 45\n",
      "multi 362880\n"
     ]
    }
   ],
   "source": [
    "# Note 12  *****\n",
    "\n",
    "w = np.arange(1,10)\n",
    "sum_w = np.add.reduce(w)      # sum all elemnts of list , vector not an array list 'later Here in this Note'\n",
    "multi_w = np.multiply.reduce(w)   # multiply all elements of array by each other 'factorial for here' \n",
    "\n",
    "\n",
    "print('sum',sum_w)\n",
    "print('multi',multi_w)"
   ]
  },
  {
   "cell_type": "code",
   "execution_count": 221,
   "id": "6c93233c",
   "metadata": {},
   "outputs": [
    {
     "name": "stdout",
     "output_type": "stream",
     "text": [
      "w [  0   1   3   6  10  15  21  28  36  45  55  66  78  91 105]\n",
      "\n",
      "e [  0   1   3   6  10  15  21  28  36  45  55  66  78  91 105]\n",
      "\n",
      "f 105\n",
      "\n",
      "q 105\n"
     ]
    }
   ],
   "source": [
    "# Note 13  *****\n",
    "\n",
    "a = np.arange(15)\n",
    "\n",
    "w = np.cumsum(a)                  # print list of (cummulative sum) until finish the total list\n",
    "e = np.add.accumulate(a)          # print the same of above\n",
    "f = np.add.reduce(a)              # print the total sum of the list , which is the same index\n",
    "q = w[-1]                         #     in the above two methods \n",
    "\n",
    "\n",
    "print('w',w) \n",
    "print('')\n",
    "print('e',e)\n",
    "print('')\n",
    "print('f',f)\n",
    "print('')\n",
    "print('q',q)"
   ]
  },
  {
   "cell_type": "code",
   "execution_count": 255,
   "id": "eaa5839a",
   "metadata": {},
   "outputs": [
    {
     "name": "stdout",
     "output_type": "stream",
     "text": [
      "array [[1 2 3]\n",
      " [4 5 6]\n",
      " [7 8 9]]\n",
      "\n",
      "sum_diag 15\n",
      "\n",
      "det -9.51619735392994e-16\n",
      "\n",
      "inv [[ 3.15251974e+15 -6.30503948e+15  3.15251974e+15]\n",
      " [-6.30503948e+15  1.26100790e+16 -6.30503948e+15]\n",
      " [ 3.15251974e+15 -6.30503948e+15  3.15251974e+15]]\n",
      "\n",
      "eig vect [[-0.23197069 -0.78583024  0.40824829]\n",
      " [-0.52532209 -0.08675134 -0.81649658]\n",
      " [-0.8186735   0.61232756  0.40824829]]\n",
      "\n",
      "eig val [ 1.61168440e+01 -1.11684397e+00 -9.75918483e-16]\n",
      "\n",
      "variance 6.666666666666667\n",
      "\n",
      "covariance [[1. 1. 1.]\n",
      " [1. 1. 1.]\n",
      " [1. 1. 1.]]\n",
      "\n",
      "correlation [[1. 1. 1.]\n",
      " [1. 1. 1.]\n",
      " [1. 1. 1.]]\n",
      "\n",
      "mean 5.0\n",
      "\n",
      "std 2.581988897471611\n",
      "\n",
      "norm 16.881943016134134\n",
      "\n",
      "transpose [[1 4 7]\n",
      " [2 5 8]\n",
      " [3 6 9]]\n",
      "\n",
      "rank 2\n",
      "\n"
     ]
    }
   ],
   "source": [
    "# Note 14\n",
    "\n",
    "arr = np.array([[1,2,3],[4,5,6],[7,8,9]])\n",
    "sum_diag = np.trace(arr)                           # some of diagonal\n",
    "det = np.linalg.det(arr)\n",
    "inv = np.linalg.inv(arr)\n",
    "k,w = np.linalg.eig(arr)\n",
    "norm = np.linalg.norm(arr)\n",
    "transpose = arr.T                                    # get transpose of matrix\n",
    "rank = np.linalg.matrix_rank(arr)\n",
    "\n",
    "variance = np.var(arr)\n",
    "covariance = np.cov(arr)\n",
    "correlation = np.corrcoef(arr)\n",
    "mean = np.mean(arr)\n",
    "std = np.std(arr)\n",
    "\n",
    "print('array' , arr)\n",
    "print('')\n",
    "print('sum_diag' , sum_diag)\n",
    "print('')\n",
    "print('det' , det)\n",
    "print('')\n",
    "print('inv' , inv)\n",
    "print('')\n",
    "print('eig vect' , w)\n",
    "print('')\n",
    "print('eig val' , k)\n",
    "print('')\n",
    "print('variance' , variance)\n",
    "print('')\n",
    "print('covariance' , covariance)\n",
    "print('')\n",
    "print('correlation' , correlation)\n",
    "print('')\n",
    "print('mean' , mean)\n",
    "print('')\n",
    "print('std' , std)\n",
    "print('')\n",
    "print('norm' , norm)\n",
    "print('')\n",
    "print('transpose' , transpose)\n",
    "print('')\n",
    "print('rank' , rank)\n",
    "print('')"
   ]
  },
  {
   "cell_type": "code",
   "execution_count": 227,
   "id": "be699131",
   "metadata": {},
   "outputs": [
    {
     "name": "stdout",
     "output_type": "stream",
     "text": [
      "arr [[ 0  1  2  3]\n",
      " [ 4  5  6  7]\n",
      " [ 8  9 10 11]\n",
      " [12 13 14 15]]\n",
      "\n",
      "row4 [12 13 14 15]\n",
      "\n",
      "col1 [ 0  4  8 12]\n",
      "\n",
      "lst col [ 3  7 11 15]\n",
      "\n",
      "idx val 6\n",
      "\n",
      "row col [[0 1]\n",
      " [4 5]]\n"
     ]
    }
   ],
   "source": [
    "# Note 15\n",
    "\n",
    "arr = np.arange(16).reshape(4,4)\n",
    "row_1 = arr[0,:]\n",
    "row_4 = arr[3,:]\n",
    "\n",
    "col_1 = arr[:,0]\n",
    "lst_col = arr[:,-1]\n",
    "\n",
    "row_col = arr[0:2,0:2]\n",
    "idx_val = arr[1][2]\n",
    "\n",
    "print('arr',arr)\n",
    "print('')\n",
    "print('row4' , row_4)\n",
    "print('')\n",
    "print('col1' , col_1)\n",
    "print('')\n",
    "print('lst col' , lst_col)\n",
    "print('')\n",
    "print('idx val' , idx_val)\n",
    "print('')\n",
    "print('row col' , row_col)\n"
   ]
  },
  {
   "cell_type": "code",
   "execution_count": 126,
   "id": "338e16b5",
   "metadata": {},
   "outputs": [
    {
     "name": "stdout",
     "output_type": "stream",
     "text": [
      "a [[ 0  1  2  3]\n",
      " [ 4  5  6  7]\n",
      " [ 8  9 10 11]\n",
      " [12 13 14 15]]\n",
      "\n",
      "b [[ 1  2]\n",
      " [ 5  6]\n",
      " [ 9 10]\n",
      " [13 14]]\n"
     ]
    }
   ],
   "source": [
    "# Note 16\n",
    "\n",
    "a = np.arange(16).reshape(4,4)\n",
    "b = a[:,1:3].copy()\n",
    "\n",
    "print('a',a)\n",
    "print('')\n",
    "print('b',b)\n"
   ]
  },
  {
   "cell_type": "code",
   "execution_count": 229,
   "id": "0a2c4159",
   "metadata": {},
   "outputs": [
    {
     "name": "stdout",
     "output_type": "stream",
     "text": [
      "arr1 [[ 0  1  2  3]\n",
      " [ 4  5  6  7]\n",
      " [ 8  9 10 11]\n",
      " [12 13 14 15]\n",
      " [16 17 18 19]]\n",
      "\n",
      "arr2 [[0]\n",
      " [1]\n",
      " [2]\n",
      " [3]\n",
      " [4]]\n",
      "\n",
      "arr_horiz [[ 0  1  2  3  0]\n",
      " [ 4  5  6  7  1]\n",
      " [ 8  9 10 11  2]\n",
      " [12 13 14 15  3]\n",
      " [16 17 18 19  4]]\n",
      "\n",
      "arr_vert [[ 0  1  2  3]\n",
      " [ 4  5  6  7]\n",
      " [ 8  9 10 11]\n",
      " [12 13 14 15]\n",
      " [16 17 18 19]\n",
      " [ 0  1  2  3]]\n",
      "\n",
      "concat_horiz [[ 0  1  2  3  0]\n",
      " [ 4  5  6  7  1]\n",
      " [ 8  9 10 11  2]\n",
      " [12 13 14 15  3]\n",
      " [16 17 18 19  4]]\n",
      "\n",
      "concat_vert [[ 0  1  2  3]\n",
      " [ 4  5  6  7]\n",
      " [ 8  9 10 11]\n",
      " [12 13 14 15]\n",
      " [16 17 18 19]\n",
      " [ 0  1  2  3]]\n"
     ]
    }
   ],
   "source": [
    "# Note 17   *****\n",
    "\n",
    "arr1 = np.arange(20).reshape(5,4)\n",
    "arr2 = np.arange(5).reshape(5,1)\n",
    "arr3 = np.arange(4).reshape(1,4)\n",
    "\n",
    " \n",
    "# horizontal stack applied on rows take the arr2 and put it to arr1 horizontally  \n",
    "# the two methods below are doing the same thing\n",
    "arr_horz = np.hstack((arr1,arr2))                          # note the tuble brackets as shown (())      \n",
    "arr_concat_horz = np.concatenate([arr1,arr2] , axis = 1)   # axis 1 = rows , concat([], )\n",
    "\n",
    "\n",
    "# verical stack applied on rows take the arr2 and put it to arr1 verically  \n",
    "# the two methods below are doing the same thing\n",
    "arr_vert = np.vstack((arr1,arr3))                          # note the tuble brackets as shown (())\n",
    "arr_concat_vert = np.concatenate([arr1,arr3] , axis = 0)   # axis 0 = columns , concat([], )\n",
    "\n",
    "print('arr1',arr1)\n",
    "print('')\n",
    "print('arr2',arr2)\n",
    "print('')\n",
    "print('arr_horiz',arr_horiz)\n",
    "print('')\n",
    "print('arr_vert',arr_vert)\n",
    "print('')\n",
    "print('concat_horiz',arr_concat_horz)\n",
    "print('')\n",
    "print('concat_vert',arr_concat_vert)"
   ]
  },
  {
   "cell_type": "code",
   "execution_count": 230,
   "id": "c0b2538b",
   "metadata": {},
   "outputs": [
    {
     "name": "stdout",
     "output_type": "stream",
     "text": [
      "arr [[ 5  6  7  8  9]\n",
      " [10 11 12 13 14]\n",
      " [15 16 17 18 19]]\n",
      "\n",
      "max 19\n",
      "\n",
      "max 5\n",
      "\n",
      "max_idx 14\n",
      "\n",
      "min_idx 0\n"
     ]
    }
   ],
   "source": [
    "# Note 18\n",
    "\n",
    "arr = np.arange(5,20).reshape(3,5)\n",
    "\n",
    "max_arr = np.max(arr)\n",
    "min_arr = np.min(arr)\n",
    "\n",
    "max_idx = np.argmax(arr)              # get the idx of max value in the array\n",
    "min_idx = np.argmin(arr)\n",
    "\n",
    "print('arr',arr)\n",
    "print('')\n",
    "print('max',max_arr)\n",
    "print('')\n",
    "print('max',min_arr)\n",
    "print('')\n",
    "print('max_idx',max_idx)\n",
    "print('')\n",
    "print('min_idx',min_idx)"
   ]
  },
  {
   "cell_type": "code",
   "execution_count": 232,
   "id": "f788690e",
   "metadata": {},
   "outputs": [
    {
     "name": "stdout",
     "output_type": "stream",
     "text": [
      "arr_dot [[ 27  33]\n",
      " [ 54  68]\n",
      " [ 85 107]]\n",
      "\n",
      "div by num [[0.2 0.4 0.6]\n",
      " [0.8 1.  1. ]\n",
      " [1.4 1.2 1.8]]\n",
      "\n",
      "dot_product 115\n",
      "\n"
     ]
    }
   ],
   "source": [
    "# Note 19\n",
    "\n",
    "arr1 = np.array([[1,2,3],[4,5,5],[7,6,9]])     # 3X3  matrix\n",
    "arr2 = np.array([[1,2],[4,5],[6,7]])           # 3X2\n",
    "\n",
    "arr3 = np.array([1,2,3,4,5])                   # vector \n",
    "arr4 = np.array([5,6,7,8,9])\n",
    "\n",
    "\n",
    "arr_dot = np.dot(arr1,arr2) \n",
    "arr_bynum = arr1/5\n",
    "\n",
    "dot_product = np.dot(arr3,arr4)        # dot product of two vectors\n",
    "\n",
    "\n",
    "print('arr_dot' , arr_dot)\n",
    "print('')\n",
    "print('div by num' , arr_bynum)\n",
    "print('')\n",
    "print('dot_product' , dot_product)\n",
    "print('')"
   ]
  },
  {
   "cell_type": "code",
   "execution_count": 234,
   "id": "fd487f94",
   "metadata": {},
   "outputs": [
    {
     "name": "stdout",
     "output_type": "stream",
     "text": [
      "arr [[ 5  6  7  8  9]\n",
      " [10 11 12 13 14]\n",
      " [15 16 17 18 19]]\n",
      "\n",
      "cum_list_col [30 33 36 39 42]\n",
      "\n",
      "sum_cols [30 33 36 39 42]\n",
      "\n",
      "cum_list_row [35 60 85]\n",
      "\n",
      "sum_rows [35 60 85]\n",
      "\n",
      "val_by_val [  5  11  18  26  35  45  56  68  81  95 110 126 143 161 180]\n",
      "\n",
      "sum_total 180\n"
     ]
    }
   ],
   "source": [
    "# Note 20   *****\n",
    "\n",
    "a = np.arange(5,20).reshape(3,5)\n",
    "\n",
    "# the next to commands do the same thing for columns 'verically'\n",
    "cum_list_col = np.add.reduce(a , axis = 0)  # get list of sum each row >>> axis 0 = col 'vertical'\n",
    "sum_cols = np.sum(a , axis = 0)             # is equal to cum_list_col\n",
    "\n",
    "# the next to commands do the same thing for rows 'horizontally'\n",
    "cum_list_row = np.add.reduce(a , axis = 1)  # get list of sum each col >>> axis 1 = row 'horiz'\n",
    "sum_rows = np.sum(a , axis = 1)             # is equal to cum_list_row\n",
    "\n",
    "    \n",
    "val_by_val = np.cumsum(a)               # to sum value by value , the last index is the total sum  \n",
    "sum_total = np.sum(a)                   # to sum all the elments of the array\n",
    "\n",
    "\n",
    "\n",
    "print('arr' , a)\n",
    "print('')\n",
    "print('cum_list_col' ,cum_list_col )\n",
    "print('')\n",
    "print('sum_cols' ,sum_cols )                    \n",
    "print('')\n",
    "print('cum_list_row' ,cum_list_row )\n",
    "print('')\n",
    "print('sum_rows' ,sum_rows )\n",
    "print('')\n",
    "print('val_by_val' ,val_by_val )\n",
    "print('')\n",
    "print('sum_total' ,sum_total )"
   ]
  },
  {
   "cell_type": "code",
   "execution_count": 250,
   "id": "e66531c8",
   "metadata": {},
   "outputs": [
    {
     "name": "stdout",
     "output_type": "stream",
     "text": [
      "dot 1 [[13  8 15]\n",
      " [11  9 16]\n",
      " [10  9 17]]\n",
      "\n",
      "dot 2 [[13  8 15]\n",
      " [11  9 16]\n",
      " [10  9 17]]\n",
      "\n",
      "lower_tria [[3 0 0]\n",
      " [2 1 0]\n",
      " [1 2 3]]\n",
      "\n",
      "upper_tria [[3 1 2]\n",
      " [0 1 3]\n",
      " [0 0 3]]\n",
      "\n"
     ]
    }
   ],
   "source": [
    "# Note 21 \n",
    "\n",
    "a = np.array([[3,1,2],[2,1,3],[1,2,3]])\n",
    "\n",
    "dot_pro1 = np.dot(a,a)\n",
    "dot_pro2 = a@a\n",
    "\n",
    "lower_tria = np.tril(a)\n",
    "upper_tria = np.triu(a)\n",
    "\n",
    "print('dot 1' , dot_pro1)\n",
    "print('')\n",
    "print('dot 2' , dot_pro2)\n",
    "print('')\n",
    "print('lower_tria' , lower_tria)\n",
    "print('')\n",
    "print('upper_tria' , upper_tria)\n",
    "print('')"
   ]
  },
  {
   "cell_type": "code",
   "execution_count": 254,
   "id": "43f78510",
   "metadata": {},
   "outputs": [
    {
     "name": "stdout",
     "output_type": "stream",
     "text": [
      "diagonal numbers [3 1 3]\n",
      "\n",
      "diagonal matrix [[3 0 0]\n",
      " [0 1 0]\n",
      " [0 0 3]]\n",
      "\n",
      "diagonal matrix [[3 0 0]\n",
      " [0 1 0]\n",
      " [0 0 3]]\n"
     ]
    }
   ],
   "source": [
    "# Note 22 \n",
    "\n",
    "a = np.array([[3,1,2],[2,1,3],[1,2,3]])\n",
    "\n",
    "\n",
    "# extract diagonal vector\n",
    "d = np.diag(a)\n",
    "# create diagonal matrix from vector\n",
    "D = np.diag(d)\n",
    "\n",
    "# method 2\n",
    "dd = [3,1,3]\n",
    "DD = np.diag(dd)\n",
    "\n",
    "\n",
    "print('diagonal numbers' , d)\n",
    "print('')\n",
    "print('diagonal matrix' , D)\n",
    "print('')\n",
    "print('diagonal matrix' , DD)\n"
   ]
  },
  {
   "cell_type": "code",
   "execution_count": 257,
   "id": "a59ab7f4",
   "metadata": {},
   "outputs": [
    {
     "name": "stdout",
     "output_type": "stream",
     "text": [
      "tensor dot [[3 4]\n",
      " [6 8]]\n"
     ]
    }
   ],
   "source": [
    "# Note 23\n",
    "\n",
    "# tensor product\n",
    "\n",
    "A = np.array([1,2])\n",
    "B = np.array([3,4])          # row1 >>> 1*3 , 1*4 | row2 >>>> 2*3 , 2*4  \n",
    "\n",
    "C = np.tensordot(A, B, axes = 0)     #\n",
    "print('tensor dot' , C)"
   ]
  },
  {
   "cell_type": "code",
   "execution_count": 275,
   "id": "eb5217fe",
   "metadata": {},
   "outputs": [
    {
     "name": "stdout",
     "output_type": "stream",
     "text": [
      "x outs_using inveres\n",
      " [[ -0.43478261]\n",
      " [ 19.65217391]\n",
      " [-16.        ]]\n",
      "\n",
      "x outs_using solve method\n",
      " [[ -0.43478261]\n",
      " [ 19.65217391]\n",
      " [-16.        ]]\n",
      "\n",
      "\n",
      "2nd Example\n",
      " [[ 3.]\n",
      " [-2.]]\n",
      "\n"
     ]
    }
   ],
   "source": [
    "# Note 24\n",
    "\n",
    "# Solve Ax=b using inverse of A   ...  A 3x3 & b 3x1 >> x 3x1 \n",
    "A = np.array([[60,5.5,1],[65,5.0,0],[55,6.0,1]])\n",
    "b = np.array([[66],[70],[78]])                          # note that b 3x1 matrix \n",
    "\n",
    "A_inv = np.linalg.inv(A)\n",
    "x1 = np.dot(A_inv,b)\n",
    "\n",
    "# Solve Ax=b using solve method    ...  A 3x3 & b 3x1 >> x 3x1 \n",
    "x2 = np.linalg.solve(A,b)                 # solve method understand that first one\n",
    "                                          # we get inverse for it then multiply it by second one\n",
    "\n",
    "# another example\n",
    "w = np.array([[1,2],[3,4]])\n",
    "v = np.array([[-1],[1]])\n",
    "\n",
    "e = np.linalg.solve(w,v)\n",
    "\n",
    "\n",
    "print('x outs_using inveres\\n' , x1)\n",
    "print('')\n",
    "print('x outs_using solve method\\n' , x2)\n",
    "print('')\n",
    "print('')\n",
    "print('2nd Example\\n' , e)\n",
    "print('')"
   ]
  },
  {
   "cell_type": "code",
   "execution_count": null,
   "id": "b6545f2f",
   "metadata": {},
   "outputs": [],
   "source": []
  }
 ],
 "metadata": {
  "kernelspec": {
   "display_name": "Python 3",
   "language": "python",
   "name": "python3"
  },
  "language_info": {
   "codemirror_mode": {
    "name": "ipython",
    "version": 3
   },
   "file_extension": ".py",
   "mimetype": "text/x-python",
   "name": "python",
   "nbconvert_exporter": "python",
   "pygments_lexer": "ipython3",
   "version": "3.8.8"
  }
 },
 "nbformat": 4,
 "nbformat_minor": 5
}
